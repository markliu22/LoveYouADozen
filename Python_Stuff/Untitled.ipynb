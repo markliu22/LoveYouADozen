{
 "cells": [
  {
   "cell_type": "code",
   "execution_count": 31,
   "id": "29c8f9f8",
   "metadata": {},
   "outputs": [],
   "source": [
    "from itertools import permutations\n",
    "from PIL import Image\n",
    "\n",
    "# Assuming you have a list of flower images named flower_1.png, flower_2.png, etc.\n",
    "flowers = [f'flower_{i}.png' for i in range(1, 5)]\n",
    "\n",
    "# Generate one permutation of the flowers\n",
    "bouquet_permutation = next(permutations(flowers, len(flowers)))\n",
    "\n",
    "# Output folder for the generated bouquet image\n",
    "output_folder = 'bouquet_images/'\n",
    "\n",
    "# Define the number of rows and columns\n",
    "rows = 2\n",
    "columns = 2\n",
    "\n",
    "# Define the width and height of each flower in the bouquet\n",
    "flower_width = 130\n",
    "flower_height = 280\n",
    "\n",
    "# Set the amount of overlap (adjust these values as needed)\n",
    "x_overlap = 50\n",
    "y_overlap = 190\n",
    "\n",
    "# Calculate the canvas size considering potential overlap\n",
    "canvas_width = columns * flower_width - (columns - 1) * x_overlap\n",
    "canvas_height = rows * flower_height - (rows - 1) * y_overlap\n",
    "bouquet_image = Image.new('RGBA', (canvas_width, canvas_height), (255, 255, 255, 0))\n",
    "\n",
    "# Paste each flower onto the canvas with a white background and overlap\n",
    "for i, flower in enumerate(bouquet_permutation):\n",
    "    flower_image = Image.open(flower).convert('RGBA')\n",
    "    # Calculate the position of each flower in the bouquet with overlap\n",
    "    x_position = (i % columns) * (flower_width - x_overlap)\n",
    "    y_position = (i // columns) * (flower_height - y_overlap)\n",
    "\n",
    "    # Composite the flower onto the canvas using the alpha channel\n",
    "    bouquet_image.alpha_composite(flower_image, dest=(x_position, y_position))\n",
    "\n",
    "# Save the generated bouquet image with a white canvas\n",
    "bouquet_image.save(f'{output_folder}final_bouquet.png')\n"
   ]
  },
  {
   "cell_type": "code",
   "execution_count": null,
   "id": "b450e0bb",
   "metadata": {},
   "outputs": [],
   "source": []
  }
 ],
 "metadata": {
  "kernelspec": {
   "display_name": "Python 3 (ipykernel)",
   "language": "python",
   "name": "python3"
  },
  "language_info": {
   "codemirror_mode": {
    "name": "ipython",
    "version": 3
   },
   "file_extension": ".py",
   "mimetype": "text/x-python",
   "name": "python",
   "nbconvert_exporter": "python",
   "pygments_lexer": "ipython3",
   "version": "3.11.5"
  }
 },
 "nbformat": 4,
 "nbformat_minor": 5
}
